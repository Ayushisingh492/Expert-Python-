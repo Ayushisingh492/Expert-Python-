{
  "nbformat": 4,
  "nbformat_minor": 0,
  "metadata": {
    "colab": {
      "provenance": []
    },
    "kernelspec": {
      "name": "python3",
      "display_name": "Python 3"
    },
    "language_info": {
      "name": "python"
    }
  },
  "cells": [
    {
      "cell_type": "code",
      "execution_count": null,
      "metadata": {
        "colab": {
          "base_uri": "https://localhost:8080/"
        },
        "id": "QWdPNIqc6tnF",
        "outputId": "e0ae59a0-e757-4418-ddf1-63f168fef119"
      },
      "outputs": [
        {
          "output_type": "stream",
          "name": "stdout",
          "text": [
            "Requirement already satisfied: requests in /usr/local/lib/python3.11/dist-packages (2.32.3)\n",
            "Requirement already satisfied: charset-normalizer<4,>=2 in /usr/local/lib/python3.11/dist-packages (from requests) (3.4.2)\n",
            "Requirement already satisfied: idna<4,>=2.5 in /usr/local/lib/python3.11/dist-packages (from requests) (3.10)\n",
            "Requirement already satisfied: urllib3<3,>=1.21.1 in /usr/local/lib/python3.11/dist-packages (from requests) (2.4.0)\n",
            "Requirement already satisfied: certifi>=2017.4.17 in /usr/local/lib/python3.11/dist-packages (from requests) (2025.4.26)\n",
            "Requirement already satisfied: beautifulsoup4 in /usr/local/lib/python3.11/dist-packages (4.13.4)\n",
            "Requirement already satisfied: soupsieve>1.2 in /usr/local/lib/python3.11/dist-packages (from beautifulsoup4) (2.7)\n",
            "Requirement already satisfied: typing-extensions>=4.0.0 in /usr/local/lib/python3.11/dist-packages (from beautifulsoup4) (4.13.2)\n"
          ]
        }
      ],
      "source": [
        "!pip install requests\n",
        "!pip install beautifulsoup4\n",
        "\n",
        "from bs4 import BeautifulSoup\n",
        "import requests"
      ]
    },
    {
      "cell_type": "markdown",
      "source": [
        "Question 1: Extract Headlines from BBC News\n",
        "Goal: Extract top 5 headlines from https://www.bbc.com/news"
      ],
      "metadata": {
        "id": "v8gPV5NMAFwS"
      }
    },
    {
      "cell_type": "code",
      "source": [
        "import requests\n",
        "\n",
        "from bs4 import BeautifulSoup\n",
        "\n",
        "def get_bbc_headlines():\n",
        "    url = \"https://www.bbc.com/news\"\n",
        "    response = requests.get(url)\n",
        "    soup = BeautifulSoup(response.text, 'html.parser')\n",
        "\n",
        "    headlines = soup.find_all('h3')\n",
        "    for i, h in enumerate(headlines[:5]):\n",
        "        print(f\"{i+1}. {h.get_text(strip=True)}\")\n",
        "\n",
        "get_bbc_headlines()\n"
      ],
      "metadata": {
        "id": "TtUNRS9h_S9D"
      },
      "execution_count": null,
      "outputs": []
    },
    {
      "cell_type": "markdown",
      "source": [
        "Question 2: Get All Hyperlinks from a Website\n",
        "Goal: Extract and print all <a> tags (text + href) from https://example.com"
      ],
      "metadata": {
        "id": "GHVwiUt2AKzi"
      }
    },
    {
      "cell_type": "code",
      "source": [
        "def extract_links():\n",
        "    url = \"https://example.com\"\n",
        "    response = requests.get(url)\n",
        "    soup = BeautifulSoup(response.text, 'html')\n",
        "\n",
        "    links = soup.find_all('a')\n",
        "    for link in links:\n",
        "        text = link.get_text(strip=True)\n",
        "        href = link.get('href')\n",
        "        if href:\n",
        "            print(f\"Text: {text} | Link: {href}\")\n",
        "\n",
        "extract_links()\n"
      ],
      "metadata": {
        "colab": {
          "base_uri": "https://localhost:8080/"
        },
        "id": "31x7shklAOUy",
        "outputId": "790e189f-5091-4997-dc6d-6e623c8d7614"
      },
      "execution_count": null,
      "outputs": [
        {
          "output_type": "stream",
          "name": "stdout",
          "text": [
            "Text: More information... | Link: https://www.iana.org/domains/example\n"
          ]
        }
      ]
    },
    {
      "cell_type": "markdown",
      "source": [
        "Question 3: Scrape Book Titles from books.toscrape.com\n",
        "Goal: Get titles of first 10 books."
      ],
      "metadata": {
        "id": "D_AGysGGASsy"
      }
    },
    {
      "cell_type": "code",
      "source": [
        "def scrape_book_titles():\n",
        "    url = \"http://books.toscrape.com\"\n",
        "    response = requests.get(url)\n",
        "    soup = BeautifulSoup(response.text, 'html')\n",
        "\n",
        "    books = soup.find_all('h3')[:10]\n",
        "    for i, book in enumerate(books, 1):\n",
        "        title = book.a['title']\n",
        "        print(f\"{i}. {title}\")\n",
        "\n",
        "scrape_book_titles()\n"
      ],
      "metadata": {
        "colab": {
          "base_uri": "https://localhost:8080/"
        },
        "id": "W_n9Pv4qAYmC",
        "outputId": "df2825a4-ab0d-44e7-f705-1a0464ac8170"
      },
      "execution_count": null,
      "outputs": [
        {
          "output_type": "stream",
          "name": "stdout",
          "text": [
            "1. A Light in the Attic\n",
            "2. Tipping the Velvet\n",
            "3. Soumission\n",
            "4. Sharp Objects\n",
            "5. Sapiens: A Brief History of Humankind\n",
            "6. The Requiem Red\n",
            "7. The Dirty Little Secrets of Getting Your Dream Job\n",
            "8. The Coming Woman: A Novel Based on the Life of the Infamous Feminist, Victoria Woodhull\n",
            "9. The Boys in the Boat: Nine Americans and Their Epic Quest for Gold at the 1936 Berlin Olympics\n",
            "10. The Black Maria\n"
          ]
        }
      ]
    },
    {
      "cell_type": "markdown",
      "source": [
        "Question 4: Extract Quotes and Authors\n",
        "Goal: Get 5 quotes and their authors from http://quotes.toscrape.com"
      ],
      "metadata": {
        "id": "wFylFJU6AZ-6"
      }
    },
    {
      "cell_type": "code",
      "source": [
        "def scrape_quotes():\n",
        "    url = \"http://quotes.toscrape.com\"\n",
        "    response = requests.get(url)\n",
        "    soup = BeautifulSoup(response.text, 'html.parser')\n",
        "\n",
        "    quotes = soup.find_all('div', class_='quote')[:5]\n",
        "    for i, quote in enumerate(quotes, 1):\n",
        "        text = quote.find('span', class_='text').get_text(strip=True)\n",
        "        author = quote.find('small', class_='author').get_text(strip=True)\n",
        "        print(f\"{i}. {text} — {author}\")\n",
        "\n",
        "scrape_quotes()\n"
      ],
      "metadata": {
        "colab": {
          "base_uri": "https://localhost:8080/"
        },
        "id": "xj7xdluHAdci",
        "outputId": "9f9771a0-3bc6-4136-d49c-f58ef25646cc"
      },
      "execution_count": null,
      "outputs": [
        {
          "output_type": "stream",
          "name": "stdout",
          "text": [
            "1. “The world as we have created it is a process of our thinking. It cannot be changed without changing our thinking.” — Albert Einstein\n",
            "2. “It is our choices, Harry, that show what we truly are, far more than our abilities.” — J.K. Rowling\n",
            "3. “There are only two ways to live your life. One is as though nothing is a miracle. The other is as though everything is a miracle.” — Albert Einstein\n",
            "4. “The person, be it gentleman or lady, who has not pleasure in a good novel, must be intolerably stupid.” — Jane Austen\n",
            "5. “Imperfection is beauty, madness is genius and it's better to be absolutely ridiculous than absolutely boring.” — Marilyn Monroe\n"
          ]
        }
      ]
    },
    {
      "cell_type": "markdown",
      "source": [
        "Question 5: Scrape IMDb Top 10 Movies\n",
        "Goal: Extract top 10 movie titles from IMDb Top 250"
      ],
      "metadata": {
        "id": "66ZiN3UYAhZq"
      }
    },
    {
      "cell_type": "code",
      "source": [
        "def scrape_imdb_top_movies():\n",
        "    url = \"https://www.imdb.com/chart/top\"\n",
        "    headers = {'User-Agent': 'Mozilla/5.0'}  # Required to avoid 403 errors\n",
        "    response = requests.get(url, headers=headers)\n",
        "    soup = BeautifulSoup(response.text, 'html.parser')\n",
        "\n",
        "    titles = soup.select('td.titleColumn a')[:10]\n",
        "    for i, tag in enumerate(titles, 1):\n",
        "        print(f\"{i}. {tag.text}\")\n",
        "\n",
        "scrape_imdb_top_movies()\n"
      ],
      "metadata": {
        "id": "fTl0jZBjAjEK"
      },
      "execution_count": null,
      "outputs": []
    },
    {
      "cell_type": "code",
      "source": [],
      "metadata": {
        "id": "E-7DSFNkFEiL"
      },
      "execution_count": null,
      "outputs": []
    }
  ]
}